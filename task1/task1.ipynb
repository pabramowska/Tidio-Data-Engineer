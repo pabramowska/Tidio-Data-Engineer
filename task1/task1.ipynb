{
 "cells": [
  {
   "cell_type": "code",
   "execution_count": 1,
   "metadata": {},
   "outputs": [],
   "source": [
    "import pandas as pd\n",
    "import numpy as np\n",
    "import re"
   ]
  },
  {
   "cell_type": "code",
   "execution_count": 2,
   "metadata": {},
   "outputs": [],
   "source": [
    "test_df = pd.read_csv(\"task1_output.tsv\", sep=\"\\t\", dtype=\"str\")"
   ]
  },
  {
   "cell_type": "code",
   "execution_count": 3,
   "metadata": {},
   "outputs": [
    {
     "data": {
      "text/plain": [
       "'www.tidio.com/?a_g_adgroupid=51965652&utm_campaign=57849297&a_g_creative=75933843&a_v=2&utm_source=source_1&utm_content=OmFZSyCEz83znMT&a_g_campaignid=57849297&a_bucket=bucket_1&utm_term=keyword_66&a_type=type_1&utm_medium=cpc&a_source=source_1&a_g_keyword=keyword_66'"
      ]
     },
     "execution_count": 3,
     "metadata": {},
     "output_type": "execute_result"
    }
   ],
   "source": [
    "test_df.url[1]"
   ]
  },
  {
   "cell_type": "code",
   "execution_count": 4,
   "metadata": {},
   "outputs": [],
   "source": [
    "urls = pd.read_csv(\"task1_input.tsv\", sep=\"\\t\")"
   ]
  },
  {
   "cell_type": "code",
   "execution_count": 5,
   "metadata": {},
   "outputs": [],
   "source": [
    "out_dict = dict()\n",
    "required_columns = [\"a_bucket\", \"a_type\", \"a_source\", \"a_v\", \"a_g_campaignid\", \"a_g_keyword\", \"a_g_adgroupid\", \"a_g_creative\"]"
   ]
  },
  {
   "cell_type": "code",
   "execution_count": 6,
   "metadata": {},
   "outputs": [],
   "source": [
    "for url in urls.url:\n",
    "    columns = [val.split(\"=\")[0] for val in re.split(r'[&%?]', url)]\n",
    "    values = [np.nan if len(val.split(\"=\")) < 2 else val.split(\"=\")[1] for val in re.split(r'[&%?]', url)]\n",
    "    out_dict.setdefault(\"url\", []).append(url)\n",
    "    \n",
    "    for col, val in zip(columns, values):\n",
    "        if col not in required_columns:\n",
    "            continue\n",
    "        out_dict.setdefault(col, []).append(val)\n",
    "        \n",
    "    if (set(required_columns) - set(columns)):\n",
    "        missing_columns = set(required_columns) - set(columns)\n",
    "        \n",
    "        for missing_column in missing_columns:\n",
    "            out_dict.setdefault(missing_column, []).append(np.nan)\n",
    "    "
   ]
  },
  {
   "cell_type": "code",
   "execution_count": 7,
   "metadata": {},
   "outputs": [],
   "source": [
    "out_df = pd.DataFrame(out_dict)"
   ]
  },
  {
   "cell_type": "code",
   "execution_count": 8,
   "metadata": {},
   "outputs": [
    {
     "data": {
      "text/html": [
       "<div>\n",
       "<style scoped>\n",
       "    .dataframe tbody tr th:only-of-type {\n",
       "        vertical-align: middle;\n",
       "    }\n",
       "\n",
       "    .dataframe tbody tr th {\n",
       "        vertical-align: top;\n",
       "    }\n",
       "\n",
       "    .dataframe thead th {\n",
       "        text-align: right;\n",
       "    }\n",
       "</style>\n",
       "<table border=\"1\" class=\"dataframe\">\n",
       "  <thead>\n",
       "    <tr style=\"text-align: right;\">\n",
       "      <th></th>\n",
       "      <th>url</th>\n",
       "      <th>a_source</th>\n",
       "      <th>a_g_creative</th>\n",
       "      <th>a_g_keyword</th>\n",
       "      <th>a_g_campaignid</th>\n",
       "      <th>a_bucket</th>\n",
       "      <th>a_type</th>\n",
       "      <th>a_v</th>\n",
       "      <th>a_g_adgroupid</th>\n",
       "    </tr>\n",
       "  </thead>\n",
       "  <tbody>\n",
       "    <tr>\n",
       "      <th>0</th>\n",
       "      <td>www.tidio.com/?a_source=source_1&amp;utm_medium=cp...</td>\n",
       "      <td>source_1</td>\n",
       "      <td>77263014</td>\n",
       "      <td>keyword_44</td>\n",
       "      <td>83925214</td>\n",
       "      <td>bucket_1</td>\n",
       "      <td>type_4</td>\n",
       "      <td>2</td>\n",
       "      <td>NaN</td>\n",
       "    </tr>\n",
       "    <tr>\n",
       "      <th>1</th>\n",
       "      <td>www.tidio.com/?a_g_adgroupid=51965652&amp;utm_camp...</td>\n",
       "      <td>source_1</td>\n",
       "      <td>75933843</td>\n",
       "      <td>keyword_66</td>\n",
       "      <td>57849297</td>\n",
       "      <td>bucket_1</td>\n",
       "      <td>type_1</td>\n",
       "      <td>2</td>\n",
       "      <td>51965652</td>\n",
       "    </tr>\n",
       "    <tr>\n",
       "      <th>2</th>\n",
       "      <td>www.tidio.com/?utm_medium=cpc&amp;utm_term=keyword...</td>\n",
       "      <td>source_1</td>\n",
       "      <td>71297492</td>\n",
       "      <td>keyword_57</td>\n",
       "      <td>75323203</td>\n",
       "      <td>bucket_1</td>\n",
       "      <td>type_3</td>\n",
       "      <td>2</td>\n",
       "      <td>50869611</td>\n",
       "    </tr>\n",
       "    <tr>\n",
       "      <th>3</th>\n",
       "      <td>www.tidio.com/?a_g_keyword=keyword_43&amp;a_g_adgr...</td>\n",
       "      <td>source_2</td>\n",
       "      <td>63676146</td>\n",
       "      <td>keyword_43</td>\n",
       "      <td>59256211</td>\n",
       "      <td>bucket_3</td>\n",
       "      <td>type_4</td>\n",
       "      <td>2</td>\n",
       "      <td>33978949</td>\n",
       "    </tr>\n",
       "    <tr>\n",
       "      <th>4</th>\n",
       "      <td>www.tidio.com/?utm_content=rCEnQLzcbZlvcHI&amp;a_t...</td>\n",
       "      <td>source_1</td>\n",
       "      <td>80239457</td>\n",
       "      <td>keyword_87</td>\n",
       "      <td>72424542</td>\n",
       "      <td>bucket_2</td>\n",
       "      <td>type_2</td>\n",
       "      <td>2</td>\n",
       "      <td>34759537</td>\n",
       "    </tr>\n",
       "  </tbody>\n",
       "</table>\n",
       "</div>"
      ],
      "text/plain": [
       "                                                 url  a_source a_g_creative  \\\n",
       "0  www.tidio.com/?a_source=source_1&utm_medium=cp...  source_1     77263014   \n",
       "1  www.tidio.com/?a_g_adgroupid=51965652&utm_camp...  source_1     75933843   \n",
       "2  www.tidio.com/?utm_medium=cpc&utm_term=keyword...  source_1     71297492   \n",
       "3  www.tidio.com/?a_g_keyword=keyword_43&a_g_adgr...  source_2     63676146   \n",
       "4  www.tidio.com/?utm_content=rCEnQLzcbZlvcHI&a_t...  source_1     80239457   \n",
       "\n",
       "  a_g_keyword a_g_campaignid  a_bucket  a_type a_v a_g_adgroupid  \n",
       "0  keyword_44       83925214  bucket_1  type_4   2           NaN  \n",
       "1  keyword_66       57849297  bucket_1  type_1   2      51965652  \n",
       "2  keyword_57       75323203  bucket_1  type_3   2      50869611  \n",
       "3  keyword_43       59256211  bucket_3  type_4   2      33978949  \n",
       "4  keyword_87       72424542  bucket_2  type_2   2      34759537  "
      ]
     },
     "execution_count": 8,
     "metadata": {},
     "output_type": "execute_result"
    }
   ],
   "source": [
    "out_df.head()"
   ]
  },
  {
   "cell_type": "code",
   "execution_count": 9,
   "metadata": {},
   "outputs": [
    {
     "data": {
      "text/html": [
       "<div>\n",
       "<style scoped>\n",
       "    .dataframe tbody tr th:only-of-type {\n",
       "        vertical-align: middle;\n",
       "    }\n",
       "\n",
       "    .dataframe tbody tr th {\n",
       "        vertical-align: top;\n",
       "    }\n",
       "\n",
       "    .dataframe thead th {\n",
       "        text-align: right;\n",
       "    }\n",
       "</style>\n",
       "<table border=\"1\" class=\"dataframe\">\n",
       "  <thead>\n",
       "    <tr style=\"text-align: right;\">\n",
       "      <th></th>\n",
       "      <th>url</th>\n",
       "      <th>ad_source</th>\n",
       "      <th>ad_creative</th>\n",
       "      <th>ad_keyword</th>\n",
       "      <th>ad_campaign_id</th>\n",
       "      <th>ad_bucket</th>\n",
       "      <th>ad_type</th>\n",
       "      <th>schema_version</th>\n",
       "      <th>ad_adgroup_id</th>\n",
       "    </tr>\n",
       "  </thead>\n",
       "  <tbody>\n",
       "    <tr>\n",
       "      <th>0</th>\n",
       "      <td>www.tidio.com/?a_source=source_1&amp;utm_medium=cp...</td>\n",
       "      <td>source_1</td>\n",
       "      <td>77263014</td>\n",
       "      <td>keyword_44</td>\n",
       "      <td>83925214</td>\n",
       "      <td>bucket_1</td>\n",
       "      <td>type_4</td>\n",
       "      <td>2</td>\n",
       "      <td>NaN</td>\n",
       "    </tr>\n",
       "    <tr>\n",
       "      <th>1</th>\n",
       "      <td>www.tidio.com/?a_g_adgroupid=51965652&amp;utm_camp...</td>\n",
       "      <td>source_1</td>\n",
       "      <td>75933843</td>\n",
       "      <td>keyword_66</td>\n",
       "      <td>57849297</td>\n",
       "      <td>bucket_1</td>\n",
       "      <td>type_1</td>\n",
       "      <td>2</td>\n",
       "      <td>51965652</td>\n",
       "    </tr>\n",
       "    <tr>\n",
       "      <th>2</th>\n",
       "      <td>www.tidio.com/?utm_medium=cpc&amp;utm_term=keyword...</td>\n",
       "      <td>source_1</td>\n",
       "      <td>71297492</td>\n",
       "      <td>keyword_57</td>\n",
       "      <td>75323203</td>\n",
       "      <td>bucket_1</td>\n",
       "      <td>type_3</td>\n",
       "      <td>2</td>\n",
       "      <td>50869611</td>\n",
       "    </tr>\n",
       "    <tr>\n",
       "      <th>3</th>\n",
       "      <td>www.tidio.com/?a_g_keyword=keyword_43&amp;a_g_adgr...</td>\n",
       "      <td>source_2</td>\n",
       "      <td>63676146</td>\n",
       "      <td>keyword_43</td>\n",
       "      <td>59256211</td>\n",
       "      <td>bucket_3</td>\n",
       "      <td>type_4</td>\n",
       "      <td>2</td>\n",
       "      <td>33978949</td>\n",
       "    </tr>\n",
       "    <tr>\n",
       "      <th>4</th>\n",
       "      <td>www.tidio.com/?utm_content=rCEnQLzcbZlvcHI&amp;a_t...</td>\n",
       "      <td>source_1</td>\n",
       "      <td>80239457</td>\n",
       "      <td>keyword_87</td>\n",
       "      <td>72424542</td>\n",
       "      <td>bucket_2</td>\n",
       "      <td>type_2</td>\n",
       "      <td>2</td>\n",
       "      <td>34759537</td>\n",
       "    </tr>\n",
       "  </tbody>\n",
       "</table>\n",
       "</div>"
      ],
      "text/plain": [
       "                                                 url ad_source ad_creative  \\\n",
       "0  www.tidio.com/?a_source=source_1&utm_medium=cp...  source_1    77263014   \n",
       "1  www.tidio.com/?a_g_adgroupid=51965652&utm_camp...  source_1    75933843   \n",
       "2  www.tidio.com/?utm_medium=cpc&utm_term=keyword...  source_1    71297492   \n",
       "3  www.tidio.com/?a_g_keyword=keyword_43&a_g_adgr...  source_2    63676146   \n",
       "4  www.tidio.com/?utm_content=rCEnQLzcbZlvcHI&a_t...  source_1    80239457   \n",
       "\n",
       "   ad_keyword ad_campaign_id ad_bucket ad_type schema_version ad_adgroup_id  \n",
       "0  keyword_44       83925214  bucket_1  type_4              2           NaN  \n",
       "1  keyword_66       57849297  bucket_1  type_1              2      51965652  \n",
       "2  keyword_57       75323203  bucket_1  type_3              2      50869611  \n",
       "3  keyword_43       59256211  bucket_3  type_4              2      33978949  \n",
       "4  keyword_87       72424542  bucket_2  type_2              2      34759537  "
      ]
     },
     "execution_count": 9,
     "metadata": {},
     "output_type": "execute_result"
    }
   ],
   "source": [
    "names = {\"a_bucket\": \"ad_bucket\", \"a_type\":\"ad_type\", \"a_source\":\"ad_source\", \"a_v\":\"schema_version\", \n",
    "        \"a_g_campaignid\":\"ad_campaign_id\", \"a_g_keyword\":\"ad_keyword\", \"a_g_adgroupid\":\"ad_adgroup_id\", \"a_g_creative\":\"ad_creative\"}\n",
    "out_df = out_df.rename(names, axis=\"columns\")\n",
    "out_df.head()"
   ]
  },
  {
   "cell_type": "code",
   "execution_count": 10,
   "metadata": {},
   "outputs": [],
   "source": [
    "out_df = out_df[['url', 'ad_bucket', 'ad_type', 'ad_source', 'schema_version', 'ad_campaign_id', 'ad_keyword', 'ad_adgroup_id', 'ad_creative']]"
   ]
  },
  {
   "cell_type": "code",
   "execution_count": 11,
   "metadata": {},
   "outputs": [
    {
     "data": {
      "text/html": [
       "<div>\n",
       "<style scoped>\n",
       "    .dataframe tbody tr th:only-of-type {\n",
       "        vertical-align: middle;\n",
       "    }\n",
       "\n",
       "    .dataframe tbody tr th {\n",
       "        vertical-align: top;\n",
       "    }\n",
       "\n",
       "    .dataframe thead th {\n",
       "        text-align: right;\n",
       "    }\n",
       "</style>\n",
       "<table border=\"1\" class=\"dataframe\">\n",
       "  <thead>\n",
       "    <tr style=\"text-align: right;\">\n",
       "      <th></th>\n",
       "      <th>url</th>\n",
       "      <th>ad_bucket</th>\n",
       "      <th>ad_type</th>\n",
       "      <th>ad_source</th>\n",
       "      <th>schema_version</th>\n",
       "      <th>ad_campaign_id</th>\n",
       "      <th>ad_keyword</th>\n",
       "      <th>ad_adgroup_id</th>\n",
       "      <th>ad_creative</th>\n",
       "    </tr>\n",
       "  </thead>\n",
       "  <tbody>\n",
       "    <tr>\n",
       "      <th>0</th>\n",
       "      <td>www.tidio.com/?a_source=source_1&amp;utm_medium=cp...</td>\n",
       "      <td>bucket_1</td>\n",
       "      <td>type_4</td>\n",
       "      <td>source_1</td>\n",
       "      <td>2</td>\n",
       "      <td>83925214</td>\n",
       "      <td>keyword_44</td>\n",
       "      <td>NaN</td>\n",
       "      <td>77263014</td>\n",
       "    </tr>\n",
       "    <tr>\n",
       "      <th>1</th>\n",
       "      <td>www.tidio.com/?a_g_adgroupid=51965652&amp;utm_camp...</td>\n",
       "      <td>bucket_1</td>\n",
       "      <td>type_1</td>\n",
       "      <td>source_1</td>\n",
       "      <td>2</td>\n",
       "      <td>57849297</td>\n",
       "      <td>keyword_66</td>\n",
       "      <td>51965652</td>\n",
       "      <td>75933843</td>\n",
       "    </tr>\n",
       "    <tr>\n",
       "      <th>2</th>\n",
       "      <td>www.tidio.com/?utm_medium=cpc&amp;utm_term=keyword...</td>\n",
       "      <td>bucket_1</td>\n",
       "      <td>type_3</td>\n",
       "      <td>source_1</td>\n",
       "      <td>2</td>\n",
       "      <td>75323203</td>\n",
       "      <td>keyword_57</td>\n",
       "      <td>50869611</td>\n",
       "      <td>71297492</td>\n",
       "    </tr>\n",
       "    <tr>\n",
       "      <th>3</th>\n",
       "      <td>www.tidio.com/?a_g_keyword=keyword_43&amp;a_g_adgr...</td>\n",
       "      <td>bucket_3</td>\n",
       "      <td>type_4</td>\n",
       "      <td>source_2</td>\n",
       "      <td>2</td>\n",
       "      <td>59256211</td>\n",
       "      <td>keyword_43</td>\n",
       "      <td>33978949</td>\n",
       "      <td>63676146</td>\n",
       "    </tr>\n",
       "    <tr>\n",
       "      <th>4</th>\n",
       "      <td>www.tidio.com/?utm_content=rCEnQLzcbZlvcHI&amp;a_t...</td>\n",
       "      <td>bucket_2</td>\n",
       "      <td>type_2</td>\n",
       "      <td>source_1</td>\n",
       "      <td>2</td>\n",
       "      <td>72424542</td>\n",
       "      <td>keyword_87</td>\n",
       "      <td>34759537</td>\n",
       "      <td>80239457</td>\n",
       "    </tr>\n",
       "  </tbody>\n",
       "</table>\n",
       "</div>"
      ],
      "text/plain": [
       "                                                 url ad_bucket ad_type  \\\n",
       "0  www.tidio.com/?a_source=source_1&utm_medium=cp...  bucket_1  type_4   \n",
       "1  www.tidio.com/?a_g_adgroupid=51965652&utm_camp...  bucket_1  type_1   \n",
       "2  www.tidio.com/?utm_medium=cpc&utm_term=keyword...  bucket_1  type_3   \n",
       "3  www.tidio.com/?a_g_keyword=keyword_43&a_g_adgr...  bucket_3  type_4   \n",
       "4  www.tidio.com/?utm_content=rCEnQLzcbZlvcHI&a_t...  bucket_2  type_2   \n",
       "\n",
       "  ad_source schema_version ad_campaign_id  ad_keyword ad_adgroup_id  \\\n",
       "0  source_1              2       83925214  keyword_44           NaN   \n",
       "1  source_1              2       57849297  keyword_66      51965652   \n",
       "2  source_1              2       75323203  keyword_57      50869611   \n",
       "3  source_2              2       59256211  keyword_43      33978949   \n",
       "4  source_1              2       72424542  keyword_87      34759537   \n",
       "\n",
       "  ad_creative  \n",
       "0    77263014  \n",
       "1    75933843  \n",
       "2    71297492  \n",
       "3    63676146  \n",
       "4    80239457  "
      ]
     },
     "execution_count": 11,
     "metadata": {},
     "output_type": "execute_result"
    }
   ],
   "source": [
    "out_df.head()"
   ]
  },
  {
   "cell_type": "code",
   "execution_count": 12,
   "metadata": {},
   "outputs": [
    {
     "data": {
      "text/plain": [
       "True"
      ]
     },
     "execution_count": 12,
     "metadata": {},
     "output_type": "execute_result"
    }
   ],
   "source": [
    "out_df.equals(test_df)"
   ]
  },
  {
   "cell_type": "code",
   "execution_count": null,
   "metadata": {},
   "outputs": [],
   "source": []
  }
 ],
 "metadata": {
  "kernelspec": {
   "display_name": "Python 3",
   "language": "python",
   "name": "python3"
  },
  "language_info": {
   "codemirror_mode": {
    "name": "ipython",
    "version": 3
   },
   "file_extension": ".py",
   "mimetype": "text/x-python",
   "name": "python",
   "nbconvert_exporter": "python",
   "pygments_lexer": "ipython3",
   "version": "3.8.3"
  }
 },
 "nbformat": 4,
 "nbformat_minor": 4
}
