{
 "cells": [
  {
   "cell_type": "code",
   "execution_count": 1,
   "metadata": {},
   "outputs": [],
   "source": [
    "import pandas as pd"
   ]
  },
  {
   "cell_type": "code",
   "execution_count": 2,
   "metadata": {},
   "outputs": [
    {
     "data": {
      "text/html": [
       "<div>\n",
       "<style scoped>\n",
       "    .dataframe tbody tr th:only-of-type {\n",
       "        vertical-align: middle;\n",
       "    }\n",
       "\n",
       "    .dataframe tbody tr th {\n",
       "        vertical-align: top;\n",
       "    }\n",
       "\n",
       "    .dataframe thead th {\n",
       "        text-align: right;\n",
       "    }\n",
       "</style>\n",
       "<table border=\"1\" class=\"dataframe\">\n",
       "  <thead>\n",
       "    <tr style=\"text-align: right;\">\n",
       "      <th></th>\n",
       "      <th>ad_bucket</th>\n",
       "      <th>ad_type</th>\n",
       "      <th>ad_source</th>\n",
       "      <th>schema_version</th>\n",
       "      <th>ad_campaign_id</th>\n",
       "      <th>ad_keyword</th>\n",
       "      <th>ad_group_id</th>\n",
       "      <th>ad_creative</th>\n",
       "    </tr>\n",
       "  </thead>\n",
       "  <tbody>\n",
       "    <tr>\n",
       "      <th>0</th>\n",
       "      <td>bucket1</td>\n",
       "      <td>type1</td>\n",
       "      <td>source1</td>\n",
       "      <td>2</td>\n",
       "      <td>999999999</td>\n",
       "      <td>+fake_term</td>\n",
       "      <td>999999999</td>\n",
       "      <td>999999999</td>\n",
       "    </tr>\n",
       "  </tbody>\n",
       "</table>\n",
       "</div>"
      ],
      "text/plain": [
       "  ad_bucket ad_type ad_source schema_version ad_campaign_id  ad_keyword  \\\n",
       "0   bucket1   type1   source1              2      999999999  +fake_term   \n",
       "\n",
       "  ad_group_id ad_creative  \n",
       "0   999999999   999999999  "
      ]
     },
     "execution_count": 2,
     "metadata": {},
     "output_type": "execute_result"
    }
   ],
   "source": [
    "test = {\"ad_bucket\": [\"bucket1\"], \"ad_type\": [\"type1\"], \"ad_source\": [\"source1\"],\"schema_version\": [\"2\"],  \"ad_campaign_id\": [\"999999999\"], \n",
    "        \"ad_keyword\": [\"+fake_term\"],  \"ad_group_id\": [\"999999999\"], \"ad_creative\": [\"999999999\"]}\n",
    "test_df = pd.DataFrame(test)\n",
    "test_df"
   ]
  },
  {
   "cell_type": "code",
   "execution_count": 3,
   "metadata": {},
   "outputs": [],
   "source": [
    "url = \"https://www.tidio.com/?utm_source=source1&utm_medium=cpc&utm_campaign=999999999&utm_content=9999999utm_term=+fake_term+chat&a_bucket=bucket1&a_type=type1&a_source=source1&a_v=2&a_g_campaignid=999999999&a_g_keyword=+fake_term&a_g_adgroupid=999999999&a_g_creative=999999999\""
   ]
  },
  {
   "cell_type": "code",
   "execution_count": 4,
   "metadata": {},
   "outputs": [
    {
     "data": {
      "text/plain": [
       "['a_bucket=bucket1',\n",
       " 'a_type=type1',\n",
       " 'a_source=source1',\n",
       " 'a_v=2',\n",
       " 'a_g_campaignid=999999999',\n",
       " 'a_g_keyword=+fake_term',\n",
       " 'a_g_adgroupid=999999999',\n",
       " 'a_g_creative=999999999']"
      ]
     },
     "execution_count": 4,
     "metadata": {},
     "output_type": "execute_result"
    }
   ],
   "source": [
    "url.split(\"&\")[-8::]"
   ]
  },
  {
   "cell_type": "code",
   "execution_count": 5,
   "metadata": {},
   "outputs": [],
   "source": [
    "values = [val.split(\"=\")[1] for val in url.split(\"&\")[-8::]]"
   ]
  },
  {
   "cell_type": "code",
   "execution_count": 6,
   "metadata": {},
   "outputs": [
    {
     "data": {
      "text/plain": [
       "['bucket1',\n",
       " 'type1',\n",
       " 'source1',\n",
       " '2',\n",
       " '999999999',\n",
       " '+fake_term',\n",
       " '999999999',\n",
       " '999999999']"
      ]
     },
     "execution_count": 6,
     "metadata": {},
     "output_type": "execute_result"
    }
   ],
   "source": [
    "values"
   ]
  },
  {
   "cell_type": "raw",
   "metadata": {},
   "source": [
    "columns = [\"ad_bucket\", \"ad_type\",\"ad_source\",\"schema_version\", \"ad_campaign_id\", \"ad_keyword\",\"ad_group_id\", \"ad_creative\"]"
   ]
  },
  {
   "cell_type": "code",
   "execution_count": 8,
   "metadata": {},
   "outputs": [],
   "source": [
    "columns = [\"ad_bucket\", \"ad_type\",\"ad_source\",\"schema_version\", \"ad_campaign_id\", \"ad_keyword\",\"ad_group_id\", \"ad_creative\"]"
   ]
  },
  {
   "cell_type": "code",
   "execution_count": 9,
   "metadata": {},
   "outputs": [],
   "source": [
    "out_dict = dict()\n",
    "for col, val in zip(columns, values):\n",
    "    out_dict.setdefault(col, [])\n",
    "    out_dict[col].append(val)\n",
    "    "
   ]
  },
  {
   "cell_type": "code",
   "execution_count": 10,
   "metadata": {},
   "outputs": [],
   "source": [
    "out_df = pd.DataFrame(out_dict)"
   ]
  },
  {
   "cell_type": "code",
   "execution_count": 11,
   "metadata": {},
   "outputs": [
    {
     "data": {
      "text/html": [
       "<div>\n",
       "<style scoped>\n",
       "    .dataframe tbody tr th:only-of-type {\n",
       "        vertical-align: middle;\n",
       "    }\n",
       "\n",
       "    .dataframe tbody tr th {\n",
       "        vertical-align: top;\n",
       "    }\n",
       "\n",
       "    .dataframe thead th {\n",
       "        text-align: right;\n",
       "    }\n",
       "</style>\n",
       "<table border=\"1\" class=\"dataframe\">\n",
       "  <thead>\n",
       "    <tr style=\"text-align: right;\">\n",
       "      <th></th>\n",
       "      <th>ad_bucket</th>\n",
       "      <th>ad_type</th>\n",
       "      <th>ad_source</th>\n",
       "      <th>schema_version</th>\n",
       "      <th>ad_campaign_id</th>\n",
       "      <th>ad_keyword</th>\n",
       "      <th>ad_group_id</th>\n",
       "      <th>ad_creative</th>\n",
       "    </tr>\n",
       "  </thead>\n",
       "  <tbody>\n",
       "    <tr>\n",
       "      <th>0</th>\n",
       "      <td>bucket1</td>\n",
       "      <td>type1</td>\n",
       "      <td>source1</td>\n",
       "      <td>2</td>\n",
       "      <td>999999999</td>\n",
       "      <td>+fake_term</td>\n",
       "      <td>999999999</td>\n",
       "      <td>999999999</td>\n",
       "    </tr>\n",
       "  </tbody>\n",
       "</table>\n",
       "</div>"
      ],
      "text/plain": [
       "  ad_bucket ad_type ad_source schema_version ad_campaign_id  ad_keyword  \\\n",
       "0   bucket1   type1   source1              2      999999999  +fake_term   \n",
       "\n",
       "  ad_group_id ad_creative  \n",
       "0   999999999   999999999  "
      ]
     },
     "execution_count": 11,
     "metadata": {},
     "output_type": "execute_result"
    }
   ],
   "source": [
    "out_df"
   ]
  },
  {
   "cell_type": "code",
   "execution_count": 12,
   "metadata": {},
   "outputs": [
    {
     "data": {
      "text/plain": [
       "True"
      ]
     },
     "execution_count": 12,
     "metadata": {},
     "output_type": "execute_result"
    }
   ],
   "source": [
    "out_df.equals(test_df)"
   ]
  },
  {
   "cell_type": "code",
   "execution_count": null,
   "metadata": {},
   "outputs": [],
   "source": []
  }
 ],
 "metadata": {
  "kernelspec": {
   "display_name": "Python 3",
   "language": "python",
   "name": "python3"
  },
  "language_info": {
   "codemirror_mode": {
    "name": "ipython",
    "version": 3
   },
   "file_extension": ".py",
   "mimetype": "text/x-python",
   "name": "python",
   "nbconvert_exporter": "python",
   "pygments_lexer": "ipython3",
   "version": "3.8.3"
  }
 },
 "nbformat": 4,
 "nbformat_minor": 4
}
